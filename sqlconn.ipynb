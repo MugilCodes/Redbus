{
 "cells": [
  {
   "cell_type": "code",
   "execution_count": 1,
   "metadata": {},
   "outputs": [],
   "source": [
    "# importing Libraries \n",
    "import pandas as pd \n",
    "import numpy as np \n",
    "import mysql.connector "
   ]
  },
  {
   "cell_type": "code",
   "execution_count": 2,
   "metadata": {},
   "outputs": [
    {
     "data": {
      "text/html": [
       "<div>\n",
       "<style scoped>\n",
       "    .dataframe tbody tr th:only-of-type {\n",
       "        vertical-align: middle;\n",
       "    }\n",
       "\n",
       "    .dataframe tbody tr th {\n",
       "        vertical-align: top;\n",
       "    }\n",
       "\n",
       "    .dataframe thead th {\n",
       "        text-align: right;\n",
       "    }\n",
       "</style>\n",
       "<table border=\"1\" class=\"dataframe\">\n",
       "  <thead>\n",
       "    <tr style=\"text-align: right;\">\n",
       "      <th></th>\n",
       "      <th>Route_Name</th>\n",
       "      <th>Route_Link</th>\n",
       "      <th>Bus_Name</th>\n",
       "      <th>Bus_Type</th>\n",
       "      <th>Departing_Time</th>\n",
       "      <th>Duration</th>\n",
       "      <th>Reaching_Time</th>\n",
       "      <th>Star_Rating</th>\n",
       "      <th>Price</th>\n",
       "      <th>Seat_Availability</th>\n",
       "    </tr>\n",
       "  </thead>\n",
       "  <tbody>\n",
       "    <tr>\n",
       "      <th>0</th>\n",
       "      <td>Hyderabad to Vijayawada</td>\n",
       "      <td>https://www.redbus.in/bus-tickets/hyderabad-to...</td>\n",
       "      <td>APSRTC - 4045</td>\n",
       "      <td>SUPER LUXURY (NON-AC, 2 + 2 PUSH BACK)</td>\n",
       "      <td>15:45</td>\n",
       "      <td>06h 15m</td>\n",
       "      <td>22:00</td>\n",
       "      <td>4.2</td>\n",
       "      <td>INR 436</td>\n",
       "      <td>28 Seats available</td>\n",
       "    </tr>\n",
       "    <tr>\n",
       "      <th>1</th>\n",
       "      <td>Hyderabad to Vijayawada</td>\n",
       "      <td>https://www.redbus.in/bus-tickets/hyderabad-to...</td>\n",
       "      <td>APSRTC - 3356</td>\n",
       "      <td>NIGHT RIDER (SEATER CUM SLEEPER)</td>\n",
       "      <td>15:45</td>\n",
       "      <td>07h 00m</td>\n",
       "      <td>22:45</td>\n",
       "      <td>2.8</td>\n",
       "      <td>INR 639</td>\n",
       "      <td>32 Seats available</td>\n",
       "    </tr>\n",
       "    <tr>\n",
       "      <th>2</th>\n",
       "      <td>Hyderabad to Vijayawada</td>\n",
       "      <td>https://www.redbus.in/bus-tickets/hyderabad-to...</td>\n",
       "      <td>APSRTC - 3546</td>\n",
       "      <td>AMARAVATHI (VOLVO / SCANIA A.C Multi Axle)</td>\n",
       "      <td>16:15</td>\n",
       "      <td>06h 45m</td>\n",
       "      <td>23:00</td>\n",
       "      <td>3.7</td>\n",
       "      <td>INR 670</td>\n",
       "      <td>42 Seats available</td>\n",
       "    </tr>\n",
       "    <tr>\n",
       "      <th>3</th>\n",
       "      <td>Hyderabad to Vijayawada</td>\n",
       "      <td>https://www.redbus.in/bus-tickets/hyderabad-to...</td>\n",
       "      <td>APSRTC - 3500</td>\n",
       "      <td>SUPER LUXURY (NON-AC, 2 + 2 PUSH BACK)</td>\n",
       "      <td>16:20</td>\n",
       "      <td>08h 25m</td>\n",
       "      <td>00:45</td>\n",
       "      <td>3.9</td>\n",
       "      <td>INR 469</td>\n",
       "      <td>20 Seats available</td>\n",
       "    </tr>\n",
       "    <tr>\n",
       "      <th>4</th>\n",
       "      <td>Hyderabad to Vijayawada</td>\n",
       "      <td>https://www.redbus.in/bus-tickets/hyderabad-to...</td>\n",
       "      <td>APSRTC - 3376</td>\n",
       "      <td>SUPER LUXURY (NON-AC, 2 + 2 PUSH BACK)</td>\n",
       "      <td>16:45</td>\n",
       "      <td>06h 30m</td>\n",
       "      <td>23:15</td>\n",
       "      <td>4.3</td>\n",
       "      <td>INR 436</td>\n",
       "      <td>32 Seats available</td>\n",
       "    </tr>\n",
       "    <tr>\n",
       "      <th>...</th>\n",
       "      <td>...</td>\n",
       "      <td>...</td>\n",
       "      <td>...</td>\n",
       "      <td>...</td>\n",
       "      <td>...</td>\n",
       "      <td>...</td>\n",
       "      <td>...</td>\n",
       "      <td>...</td>\n",
       "      <td>...</td>\n",
       "      <td>...</td>\n",
       "    </tr>\n",
       "    <tr>\n",
       "      <th>8589</th>\n",
       "      <td>Delhi to Lucknow</td>\n",
       "      <td>https://www.redbus.in/bus-tickets/delhi-to-luc...</td>\n",
       "      <td>Laxmi holidays</td>\n",
       "      <td>Bharat Benz A/C Seater /Sleeper (2+1)</td>\n",
       "      <td>20:30</td>\n",
       "      <td>08h 00m</td>\n",
       "      <td>04:30</td>\n",
       "      <td>4.4</td>\n",
       "      <td>INR 599</td>\n",
       "      <td>15 Seats available</td>\n",
       "    </tr>\n",
       "    <tr>\n",
       "      <th>8590</th>\n",
       "      <td>Delhi to Lucknow</td>\n",
       "      <td>https://www.redbus.in/bus-tickets/delhi-to-luc...</td>\n",
       "      <td>Vaishali Expresso Pvt. Ltd.</td>\n",
       "      <td>A/C Seater / Sleeper (2+1)</td>\n",
       "      <td>18:00</td>\n",
       "      <td>08h 20m</td>\n",
       "      <td>02:20</td>\n",
       "      <td>4.4</td>\n",
       "      <td>INR 400</td>\n",
       "      <td>14 Seats available</td>\n",
       "    </tr>\n",
       "    <tr>\n",
       "      <th>8591</th>\n",
       "      <td>Delhi to Lucknow</td>\n",
       "      <td>https://www.redbus.in/bus-tickets/delhi-to-luc...</td>\n",
       "      <td>Fouji travels</td>\n",
       "      <td>A/C Seater / Sleeper (2+1)</td>\n",
       "      <td>23:00</td>\n",
       "      <td>08h 00m</td>\n",
       "      <td>07:00</td>\n",
       "      <td>4.1</td>\n",
       "      <td>INR 300</td>\n",
       "      <td>25 Seats available</td>\n",
       "    </tr>\n",
       "    <tr>\n",
       "      <th>8592</th>\n",
       "      <td>Delhi to Lucknow</td>\n",
       "      <td>https://www.redbus.in/bus-tickets/delhi-to-luc...</td>\n",
       "      <td>Fouji travels</td>\n",
       "      <td>A/C Seater / Sleeper (2+1)</td>\n",
       "      <td>20:30</td>\n",
       "      <td>08h 00m</td>\n",
       "      <td>04:30</td>\n",
       "      <td>4.3</td>\n",
       "      <td>INR 499</td>\n",
       "      <td>16 Seats available</td>\n",
       "    </tr>\n",
       "    <tr>\n",
       "      <th>8593</th>\n",
       "      <td>Delhi to Lucknow</td>\n",
       "      <td>https://www.redbus.in/bus-tickets/delhi-to-luc...</td>\n",
       "      <td>IntrCity SmartBus</td>\n",
       "      <td>Bharat Benz A/C Seater /Sleeper (2+1)</td>\n",
       "      <td>22:00</td>\n",
       "      <td>08h 10m</td>\n",
       "      <td>06:10</td>\n",
       "      <td>4.3</td>\n",
       "      <td>INR 719</td>\n",
       "      <td>7 Seats available</td>\n",
       "    </tr>\n",
       "  </tbody>\n",
       "</table>\n",
       "<p>8594 rows × 10 columns</p>\n",
       "</div>"
      ],
      "text/plain": [
       "                   Route_Name  \\\n",
       "0     Hyderabad to Vijayawada   \n",
       "1     Hyderabad to Vijayawada   \n",
       "2     Hyderabad to Vijayawada   \n",
       "3     Hyderabad to Vijayawada   \n",
       "4     Hyderabad to Vijayawada   \n",
       "...                       ...   \n",
       "8589         Delhi to Lucknow   \n",
       "8590         Delhi to Lucknow   \n",
       "8591         Delhi to Lucknow   \n",
       "8592         Delhi to Lucknow   \n",
       "8593         Delhi to Lucknow   \n",
       "\n",
       "                                             Route_Link  \\\n",
       "0     https://www.redbus.in/bus-tickets/hyderabad-to...   \n",
       "1     https://www.redbus.in/bus-tickets/hyderabad-to...   \n",
       "2     https://www.redbus.in/bus-tickets/hyderabad-to...   \n",
       "3     https://www.redbus.in/bus-tickets/hyderabad-to...   \n",
       "4     https://www.redbus.in/bus-tickets/hyderabad-to...   \n",
       "...                                                 ...   \n",
       "8589  https://www.redbus.in/bus-tickets/delhi-to-luc...   \n",
       "8590  https://www.redbus.in/bus-tickets/delhi-to-luc...   \n",
       "8591  https://www.redbus.in/bus-tickets/delhi-to-luc...   \n",
       "8592  https://www.redbus.in/bus-tickets/delhi-to-luc...   \n",
       "8593  https://www.redbus.in/bus-tickets/delhi-to-luc...   \n",
       "\n",
       "                         Bus_Name                                    Bus_Type  \\\n",
       "0                   APSRTC - 4045      SUPER LUXURY (NON-AC, 2 + 2 PUSH BACK)   \n",
       "1                   APSRTC - 3356            NIGHT RIDER (SEATER CUM SLEEPER)   \n",
       "2                   APSRTC - 3546  AMARAVATHI (VOLVO / SCANIA A.C Multi Axle)   \n",
       "3                   APSRTC - 3500      SUPER LUXURY (NON-AC, 2 + 2 PUSH BACK)   \n",
       "4                   APSRTC - 3376      SUPER LUXURY (NON-AC, 2 + 2 PUSH BACK)   \n",
       "...                           ...                                         ...   \n",
       "8589               Laxmi holidays       Bharat Benz A/C Seater /Sleeper (2+1)   \n",
       "8590  Vaishali Expresso Pvt. Ltd.                  A/C Seater / Sleeper (2+1)   \n",
       "8591                Fouji travels                  A/C Seater / Sleeper (2+1)   \n",
       "8592                Fouji travels                  A/C Seater / Sleeper (2+1)   \n",
       "8593            IntrCity SmartBus       Bharat Benz A/C Seater /Sleeper (2+1)   \n",
       "\n",
       "     Departing_Time Duration Reaching_Time  Star_Rating    Price  \\\n",
       "0             15:45  06h 15m         22:00          4.2  INR 436   \n",
       "1             15:45  07h 00m         22:45          2.8  INR 639   \n",
       "2             16:15  06h 45m         23:00          3.7  INR 670   \n",
       "3             16:20  08h 25m         00:45          3.9  INR 469   \n",
       "4             16:45  06h 30m         23:15          4.3  INR 436   \n",
       "...             ...      ...           ...          ...      ...   \n",
       "8589          20:30  08h 00m         04:30          4.4  INR 599   \n",
       "8590          18:00  08h 20m         02:20          4.4  INR 400   \n",
       "8591          23:00  08h 00m         07:00          4.1  INR 300   \n",
       "8592          20:30  08h 00m         04:30          4.3  INR 499   \n",
       "8593          22:00  08h 10m         06:10          4.3  INR 719   \n",
       "\n",
       "       Seat_Availability  \n",
       "0     28 Seats available  \n",
       "1     32 Seats available  \n",
       "2     42 Seats available  \n",
       "3     20 Seats available  \n",
       "4     32 Seats available  \n",
       "...                  ...  \n",
       "8589  15 Seats available  \n",
       "8590  14 Seats available  \n",
       "8591  25 Seats available  \n",
       "8592  16 Seats available  \n",
       "8593   7 Seats available  \n",
       "\n",
       "[8594 rows x 10 columns]"
      ]
     },
     "execution_count": 2,
     "metadata": {},
     "output_type": "execute_result"
    }
   ],
   "source": [
    "# csv to daataframe\n",
    "df_buses_1=pd.read_csv(\"ap_bus_details.csv\")\n",
    "df_buses_2=pd.read_csv(\"bihar_bus_details.csv\")\n",
    "df_buses_3=pd.read_csv(\"chandigarh_bus_details.csv\")\n",
    "df_buses_4=pd.read_csv(\"himachal_bus_details.csv\")\n",
    "df_buses_5=pd.read_csv(\"kerala_bus_details.csv\")\n",
    "df_buses_6=pd.read_csv(\"Northbengal_bus_details.csv\")\n",
    "df_buses_7=pd.read_csv(\"Punjab_bus_details.csv\")\n",
    "df_buses_8=pd.read_csv(\"Kadamba_bus_details.csv\")\n",
    "df_buses_9=pd.read_csv(\"telangana_bus_details.csv\")\n",
    "df_buses_10=pd.read_csv(\"up_bus_details.csv\")\n",
    "\n",
    "Final_df=pd.concat([df_buses_1,df_buses_2,df_buses_3,df_buses_4,df_buses_5,df_buses_6,df_buses_7,df_buses_8,df_buses_9,df_buses_10],ignore_index=True)\n",
    "\n",
    "\n",
    "Final_df.to_csv('Final.csv', index=False)\n",
    "\n",
    "Final_df"
   ]
  },
  {
   "cell_type": "code",
   "execution_count": 3,
   "metadata": {},
   "outputs": [
    {
     "name": "stdout",
     "output_type": "stream",
     "text": [
      "<class 'pandas.core.frame.DataFrame'>\n",
      "RangeIndex: 8594 entries, 0 to 8593\n",
      "Data columns (total 10 columns):\n",
      " #   Column             Non-Null Count  Dtype  \n",
      "---  ------             --------------  -----  \n",
      " 0   Route_Name         8594 non-null   object \n",
      " 1   Route_Link         8594 non-null   object \n",
      " 2   Bus_Name           8525 non-null   object \n",
      " 3   Bus_Type           8524 non-null   object \n",
      " 4   Departing_Time     8525 non-null   object \n",
      " 5   Duration           8525 non-null   object \n",
      " 6   Reaching_Time      8525 non-null   object \n",
      " 7   Star_Rating        8529 non-null   float64\n",
      " 8   Price              8525 non-null   object \n",
      " 9   Seat_Availability  8525 non-null   object \n",
      "dtypes: float64(1), object(9)\n",
      "memory usage: 671.5+ KB\n"
     ]
    }
   ],
   "source": [
    "#Data Cleaning \n",
    "Final_df.info()"
   ]
  },
  {
   "cell_type": "code",
   "execution_count": 4,
   "metadata": {},
   "outputs": [
    {
     "name": "stdout",
     "output_type": "stream",
     "text": [
      "Route_Name            0\n",
      "Route_Link            0\n",
      "Bus_Name             69\n",
      "Bus_Type             70\n",
      "Departing_Time       69\n",
      "Duration             69\n",
      "Reaching_Time        69\n",
      "Star_Rating          65\n",
      "Price                69\n",
      "Seat_Availability    69\n",
      "dtype: int64\n"
     ]
    }
   ],
   "source": [
    "\n",
    "# Display missing value count\n",
    "print(Final_df.isnull().sum())\n"
   ]
  },
  {
   "cell_type": "code",
   "execution_count": 5,
   "metadata": {},
   "outputs": [],
   "source": [
    "Final_df = Final_df.copy()  # Ensure it's not a slice\n",
    "Final_df[\"Bus_Name\"] = Final_df[\"Bus_Name\"].fillna(\"Unknown\")\n",
    "Final_df[\"Bus_Type\"] = Final_df[\"Bus_Type\"].fillna(\"Unknown\")\n"
   ]
  },
  {
   "cell_type": "code",
   "execution_count": 6,
   "metadata": {},
   "outputs": [
    {
     "data": {
      "text/plain": [
       "0       436.0\n",
       "1       639.0\n",
       "2       670.0\n",
       "3       469.0\n",
       "4       436.0\n",
       "        ...  \n",
       "8589    599.0\n",
       "8590    400.0\n",
       "8591    300.0\n",
       "8592    499.0\n",
       "8593    719.0\n",
       "Name: Price, Length: 8594, dtype: float64"
      ]
     },
     "execution_count": 6,
     "metadata": {},
     "output_type": "execute_result"
    }
   ],
   "source": [
    "# remove INR\n",
    "Final_df[\"Price\"] = Final_df[\"Price\"].str.replace(\"INR\", \"\", regex=True).str.strip()\n",
    "Final_df[\"Price\"]=Final_df[\"Price\"].astype(float)\n",
    "Final_df[\"Price\"].fillna(0)\n"
   ]
  },
  {
   "cell_type": "code",
   "execution_count": 7,
   "metadata": {},
   "outputs": [
    {
     "name": "stderr",
     "output_type": "stream",
     "text": [
      "C:\\Users\\DELL\\AppData\\Local\\Temp\\ipykernel_22272\\2805254159.py:2: FutureWarning: A value is trying to be set on a copy of a DataFrame or Series through chained assignment using an inplace method.\n",
      "The behavior will change in pandas 3.0. This inplace method will never work because the intermediate object on which we are setting values always behaves as a copy.\n",
      "\n",
      "For example, when doing 'df[col].method(value, inplace=True)', try using 'df.method({col: value}, inplace=True)' or df[col] = df[col].method(value) instead, to perform the operation inplace on the original object.\n",
      "\n",
      "\n",
      "  Final_df[\"Price\"].fillna(Final_df[\"Price\"].median(), inplace=True)\n"
     ]
    }
   ],
   "source": [
    "# Hnadeling missing value \n",
    "Final_df[\"Price\"].fillna(Final_df[\"Price\"].median(), inplace=True)\n",
    "Final_df[\"Star_Rating\"] = Final_df[\"Star_Rating\"].fillna(Final_df[\"Star_Rating\"].mean())\n"
   ]
  },
  {
   "cell_type": "code",
   "execution_count": 8,
   "metadata": {},
   "outputs": [],
   "source": [
    "import re\n",
    "\n",
    "# Extract digits from the Seat_Availability text\n",
    "Final_df[\"Seat_Availability\"] = Final_df[\"Seat_Availability\"].astype(str).apply(\n",
    "    lambda x: re.findall(r'\\d+', x)[0] if re.findall(r'\\d+', x) else '0'\n",
    ").astype(int)\n"
   ]
  },
  {
   "cell_type": "code",
   "execution_count": 9,
   "metadata": {},
   "outputs": [],
   "source": [
    "Final_df.dropna(subset=[\"Departing_Time\", \"Reaching_Time\"], inplace=True)\n"
   ]
  },
  {
   "cell_type": "code",
   "execution_count": 10,
   "metadata": {},
   "outputs": [],
   "source": [
    "from datetime import datetime\n",
    "\n",
    "def calculate_duration(row):\n",
    "    try:\n",
    "        dep_time = datetime.strptime(row[\"Departing_Time\"], \"%H:%M\")\n",
    "        arr_time = datetime.strptime(row[\"Reaching_Time\"], \"%H:%M\")\n",
    "        duration = arr_time - dep_time if arr_time > dep_time else None\n",
    "        return str(duration) if duration else \"Unknown\"\n",
    "    except:\n",
    "        return \"Unknown\"\n",
    "\n",
    "Final_df[\"Duration\"] = Final_df.apply(lambda row: calculate_duration(row) if pd.isnull(row[\"Duration\"]) else row[\"Duration\"], axis=1)\n"
   ]
  },
  {
   "cell_type": "code",
   "execution_count": 11,
   "metadata": {},
   "outputs": [
    {
     "name": "stdout",
     "output_type": "stream",
     "text": [
      "Route_Name           0\n",
      "Route_Link           0\n",
      "Bus_Name             0\n",
      "Bus_Type             0\n",
      "Departing_Time       0\n",
      "Duration             0\n",
      "Reaching_Time        0\n",
      "Star_Rating          0\n",
      "Price                0\n",
      "Seat_Availability    0\n",
      "dtype: int64\n"
     ]
    }
   ],
   "source": [
    "print(Final_df.isnull().sum())  \n"
   ]
  },
  {
   "cell_type": "code",
   "execution_count": null,
   "metadata": {},
   "outputs": [
    {
     "name": "stdout",
     "output_type": "stream",
     "text": [
      "Route_Name            object\n",
      "Route_Link            object\n",
      "Bus_Name              object\n",
      "Bus_Type              object\n",
      "Departing_Time        object\n",
      "Duration              object\n",
      "Reaching_Time         object\n",
      "Star_Rating          float64\n",
      "Price                float64\n",
      "Seat_Availability      int64\n",
      "dtype: object\n"
     ]
    }
   ],
   "source": [
    "print(Final_df.dtypes)  # \n"
   ]
  },
  {
   "cell_type": "code",
   "execution_count": 13,
   "metadata": {},
   "outputs": [
    {
     "data": {
      "text/html": [
       "<div>\n",
       "<style scoped>\n",
       "    .dataframe tbody tr th:only-of-type {\n",
       "        vertical-align: middle;\n",
       "    }\n",
       "\n",
       "    .dataframe tbody tr th {\n",
       "        vertical-align: top;\n",
       "    }\n",
       "\n",
       "    .dataframe thead th {\n",
       "        text-align: right;\n",
       "    }\n",
       "</style>\n",
       "<table border=\"1\" class=\"dataframe\">\n",
       "  <thead>\n",
       "    <tr style=\"text-align: right;\">\n",
       "      <th></th>\n",
       "      <th>Route_Name</th>\n",
       "      <th>Route_Link</th>\n",
       "      <th>Bus_Name</th>\n",
       "      <th>Bus_Type</th>\n",
       "      <th>Departing_Time</th>\n",
       "      <th>Duration</th>\n",
       "      <th>Reaching_Time</th>\n",
       "      <th>Star_Rating</th>\n",
       "      <th>Price</th>\n",
       "      <th>Seat_Availability</th>\n",
       "    </tr>\n",
       "  </thead>\n",
       "  <tbody>\n",
       "    <tr>\n",
       "      <th>0</th>\n",
       "      <td>Hyderabad to Vijayawada</td>\n",
       "      <td>https://www.redbus.in/bus-tickets/hyderabad-to...</td>\n",
       "      <td>APSRTC - 4045</td>\n",
       "      <td>SUPER LUXURY (NON-AC, 2 + 2 PUSH BACK)</td>\n",
       "      <td>15:45</td>\n",
       "      <td>06h 15m</td>\n",
       "      <td>22:00</td>\n",
       "      <td>4.2</td>\n",
       "      <td>436.0</td>\n",
       "      <td>28</td>\n",
       "    </tr>\n",
       "    <tr>\n",
       "      <th>1</th>\n",
       "      <td>Hyderabad to Vijayawada</td>\n",
       "      <td>https://www.redbus.in/bus-tickets/hyderabad-to...</td>\n",
       "      <td>APSRTC - 3356</td>\n",
       "      <td>NIGHT RIDER (SEATER CUM SLEEPER)</td>\n",
       "      <td>15:45</td>\n",
       "      <td>07h 00m</td>\n",
       "      <td>22:45</td>\n",
       "      <td>2.8</td>\n",
       "      <td>639.0</td>\n",
       "      <td>32</td>\n",
       "    </tr>\n",
       "    <tr>\n",
       "      <th>2</th>\n",
       "      <td>Hyderabad to Vijayawada</td>\n",
       "      <td>https://www.redbus.in/bus-tickets/hyderabad-to...</td>\n",
       "      <td>APSRTC - 3546</td>\n",
       "      <td>AMARAVATHI (VOLVO / SCANIA A.C Multi Axle)</td>\n",
       "      <td>16:15</td>\n",
       "      <td>06h 45m</td>\n",
       "      <td>23:00</td>\n",
       "      <td>3.7</td>\n",
       "      <td>670.0</td>\n",
       "      <td>42</td>\n",
       "    </tr>\n",
       "    <tr>\n",
       "      <th>3</th>\n",
       "      <td>Hyderabad to Vijayawada</td>\n",
       "      <td>https://www.redbus.in/bus-tickets/hyderabad-to...</td>\n",
       "      <td>APSRTC - 3500</td>\n",
       "      <td>SUPER LUXURY (NON-AC, 2 + 2 PUSH BACK)</td>\n",
       "      <td>16:20</td>\n",
       "      <td>08h 25m</td>\n",
       "      <td>00:45</td>\n",
       "      <td>3.9</td>\n",
       "      <td>469.0</td>\n",
       "      <td>20</td>\n",
       "    </tr>\n",
       "    <tr>\n",
       "      <th>4</th>\n",
       "      <td>Hyderabad to Vijayawada</td>\n",
       "      <td>https://www.redbus.in/bus-tickets/hyderabad-to...</td>\n",
       "      <td>APSRTC - 3376</td>\n",
       "      <td>SUPER LUXURY (NON-AC, 2 + 2 PUSH BACK)</td>\n",
       "      <td>16:45</td>\n",
       "      <td>06h 30m</td>\n",
       "      <td>23:15</td>\n",
       "      <td>4.3</td>\n",
       "      <td>436.0</td>\n",
       "      <td>32</td>\n",
       "    </tr>\n",
       "    <tr>\n",
       "      <th>...</th>\n",
       "      <td>...</td>\n",
       "      <td>...</td>\n",
       "      <td>...</td>\n",
       "      <td>...</td>\n",
       "      <td>...</td>\n",
       "      <td>...</td>\n",
       "      <td>...</td>\n",
       "      <td>...</td>\n",
       "      <td>...</td>\n",
       "      <td>...</td>\n",
       "    </tr>\n",
       "    <tr>\n",
       "      <th>8589</th>\n",
       "      <td>Delhi to Lucknow</td>\n",
       "      <td>https://www.redbus.in/bus-tickets/delhi-to-luc...</td>\n",
       "      <td>Laxmi holidays</td>\n",
       "      <td>Bharat Benz A/C Seater /Sleeper (2+1)</td>\n",
       "      <td>20:30</td>\n",
       "      <td>08h 00m</td>\n",
       "      <td>04:30</td>\n",
       "      <td>4.4</td>\n",
       "      <td>599.0</td>\n",
       "      <td>15</td>\n",
       "    </tr>\n",
       "    <tr>\n",
       "      <th>8590</th>\n",
       "      <td>Delhi to Lucknow</td>\n",
       "      <td>https://www.redbus.in/bus-tickets/delhi-to-luc...</td>\n",
       "      <td>Vaishali Expresso Pvt. Ltd.</td>\n",
       "      <td>A/C Seater / Sleeper (2+1)</td>\n",
       "      <td>18:00</td>\n",
       "      <td>08h 20m</td>\n",
       "      <td>02:20</td>\n",
       "      <td>4.4</td>\n",
       "      <td>400.0</td>\n",
       "      <td>14</td>\n",
       "    </tr>\n",
       "    <tr>\n",
       "      <th>8591</th>\n",
       "      <td>Delhi to Lucknow</td>\n",
       "      <td>https://www.redbus.in/bus-tickets/delhi-to-luc...</td>\n",
       "      <td>Fouji travels</td>\n",
       "      <td>A/C Seater / Sleeper (2+1)</td>\n",
       "      <td>23:00</td>\n",
       "      <td>08h 00m</td>\n",
       "      <td>07:00</td>\n",
       "      <td>4.1</td>\n",
       "      <td>300.0</td>\n",
       "      <td>25</td>\n",
       "    </tr>\n",
       "    <tr>\n",
       "      <th>8592</th>\n",
       "      <td>Delhi to Lucknow</td>\n",
       "      <td>https://www.redbus.in/bus-tickets/delhi-to-luc...</td>\n",
       "      <td>Fouji travels</td>\n",
       "      <td>A/C Seater / Sleeper (2+1)</td>\n",
       "      <td>20:30</td>\n",
       "      <td>08h 00m</td>\n",
       "      <td>04:30</td>\n",
       "      <td>4.3</td>\n",
       "      <td>499.0</td>\n",
       "      <td>16</td>\n",
       "    </tr>\n",
       "    <tr>\n",
       "      <th>8593</th>\n",
       "      <td>Delhi to Lucknow</td>\n",
       "      <td>https://www.redbus.in/bus-tickets/delhi-to-luc...</td>\n",
       "      <td>IntrCity SmartBus</td>\n",
       "      <td>Bharat Benz A/C Seater /Sleeper (2+1)</td>\n",
       "      <td>22:00</td>\n",
       "      <td>08h 10m</td>\n",
       "      <td>06:10</td>\n",
       "      <td>4.3</td>\n",
       "      <td>719.0</td>\n",
       "      <td>7</td>\n",
       "    </tr>\n",
       "  </tbody>\n",
       "</table>\n",
       "<p>8525 rows × 10 columns</p>\n",
       "</div>"
      ],
      "text/plain": [
       "                   Route_Name  \\\n",
       "0     Hyderabad to Vijayawada   \n",
       "1     Hyderabad to Vijayawada   \n",
       "2     Hyderabad to Vijayawada   \n",
       "3     Hyderabad to Vijayawada   \n",
       "4     Hyderabad to Vijayawada   \n",
       "...                       ...   \n",
       "8589         Delhi to Lucknow   \n",
       "8590         Delhi to Lucknow   \n",
       "8591         Delhi to Lucknow   \n",
       "8592         Delhi to Lucknow   \n",
       "8593         Delhi to Lucknow   \n",
       "\n",
       "                                             Route_Link  \\\n",
       "0     https://www.redbus.in/bus-tickets/hyderabad-to...   \n",
       "1     https://www.redbus.in/bus-tickets/hyderabad-to...   \n",
       "2     https://www.redbus.in/bus-tickets/hyderabad-to...   \n",
       "3     https://www.redbus.in/bus-tickets/hyderabad-to...   \n",
       "4     https://www.redbus.in/bus-tickets/hyderabad-to...   \n",
       "...                                                 ...   \n",
       "8589  https://www.redbus.in/bus-tickets/delhi-to-luc...   \n",
       "8590  https://www.redbus.in/bus-tickets/delhi-to-luc...   \n",
       "8591  https://www.redbus.in/bus-tickets/delhi-to-luc...   \n",
       "8592  https://www.redbus.in/bus-tickets/delhi-to-luc...   \n",
       "8593  https://www.redbus.in/bus-tickets/delhi-to-luc...   \n",
       "\n",
       "                         Bus_Name                                    Bus_Type  \\\n",
       "0                   APSRTC - 4045      SUPER LUXURY (NON-AC, 2 + 2 PUSH BACK)   \n",
       "1                   APSRTC - 3356            NIGHT RIDER (SEATER CUM SLEEPER)   \n",
       "2                   APSRTC - 3546  AMARAVATHI (VOLVO / SCANIA A.C Multi Axle)   \n",
       "3                   APSRTC - 3500      SUPER LUXURY (NON-AC, 2 + 2 PUSH BACK)   \n",
       "4                   APSRTC - 3376      SUPER LUXURY (NON-AC, 2 + 2 PUSH BACK)   \n",
       "...                           ...                                         ...   \n",
       "8589               Laxmi holidays       Bharat Benz A/C Seater /Sleeper (2+1)   \n",
       "8590  Vaishali Expresso Pvt. Ltd.                  A/C Seater / Sleeper (2+1)   \n",
       "8591                Fouji travels                  A/C Seater / Sleeper (2+1)   \n",
       "8592                Fouji travels                  A/C Seater / Sleeper (2+1)   \n",
       "8593            IntrCity SmartBus       Bharat Benz A/C Seater /Sleeper (2+1)   \n",
       "\n",
       "     Departing_Time Duration Reaching_Time  Star_Rating  Price  \\\n",
       "0             15:45  06h 15m         22:00          4.2  436.0   \n",
       "1             15:45  07h 00m         22:45          2.8  639.0   \n",
       "2             16:15  06h 45m         23:00          3.7  670.0   \n",
       "3             16:20  08h 25m         00:45          3.9  469.0   \n",
       "4             16:45  06h 30m         23:15          4.3  436.0   \n",
       "...             ...      ...           ...          ...    ...   \n",
       "8589          20:30  08h 00m         04:30          4.4  599.0   \n",
       "8590          18:00  08h 20m         02:20          4.4  400.0   \n",
       "8591          23:00  08h 00m         07:00          4.1  300.0   \n",
       "8592          20:30  08h 00m         04:30          4.3  499.0   \n",
       "8593          22:00  08h 10m         06:10          4.3  719.0   \n",
       "\n",
       "      Seat_Availability  \n",
       "0                    28  \n",
       "1                    32  \n",
       "2                    42  \n",
       "3                    20  \n",
       "4                    32  \n",
       "...                 ...  \n",
       "8589                 15  \n",
       "8590                 14  \n",
       "8591                 25  \n",
       "8592                 16  \n",
       "8593                  7  \n",
       "\n",
       "[8525 rows x 10 columns]"
      ]
     },
     "execution_count": 13,
     "metadata": {},
     "output_type": "execute_result"
    }
   ],
   "source": [
    "Final_df"
   ]
  },
  {
   "cell_type": "code",
   "execution_count": 14,
   "metadata": {},
   "outputs": [],
   "source": [
    "# Convert Data Types\n",
    "Final_df[\"Price\"] = Final_df[\"Price\"].astype(int)\n",
    "Final_df[\"Seat_Availability\"] = Final_df[\"Seat_Availability\"].astype(int)\n",
    "Final_df[\"Star_Rating\"] = Final_df[\"Star_Rating\"].astype(float)\n"
   ]
  },
  {
   "cell_type": "code",
   "execution_count": 15,
   "metadata": {},
   "outputs": [
    {
     "name": "stdout",
     "output_type": "stream",
     "text": [
      "Route_Name            object\n",
      "Route_Link            object\n",
      "Bus_Name              object\n",
      "Bus_Type              object\n",
      "Departing_Time        object\n",
      "Duration              object\n",
      "Reaching_Time         object\n",
      "Star_Rating          float64\n",
      "Price                  int64\n",
      "Seat_Availability      int64\n",
      "dtype: object\n"
     ]
    }
   ],
   "source": [
    "print(Final_df.dtypes)  # \n"
   ]
  },
  {
   "cell_type": "code",
   "execution_count": 16,
   "metadata": {},
   "outputs": [],
   "source": [
    "import numpy as np\n",
    "\n",
    "# Replace NaN values with None (so MySQL can accept them as NULL)\n",
    "df = Final_df.replace({np.nan: None})\n"
   ]
  },
  {
   "cell_type": "code",
   "execution_count": 17,
   "metadata": {},
   "outputs": [
    {
     "name": "stdout",
     "output_type": "stream",
     "text": [
      "Route_Name           0\n",
      "Route_Link           0\n",
      "Bus_Name             0\n",
      "Bus_Type             0\n",
      "Departing_Time       0\n",
      "Duration             0\n",
      "Reaching_Time        0\n",
      "Star_Rating          0\n",
      "Price                0\n",
      "Seat_Availability    0\n",
      "dtype: int64\n"
     ]
    }
   ],
   "source": [
    "print(df.isnull().sum())\n"
   ]
  },
  {
   "cell_type": "code",
   "execution_count": 18,
   "metadata": {},
   "outputs": [
    {
     "name": "stderr",
     "output_type": "stream",
     "text": [
      "C:\\Users\\DELL\\AppData\\Local\\Temp\\ipykernel_22272\\1396900731.py:1: FutureWarning: A value is trying to be set on a copy of a DataFrame or Series through chained assignment using an inplace method.\n",
      "The behavior will change in pandas 3.0. This inplace method will never work because the intermediate object on which we are setting values always behaves as a copy.\n",
      "\n",
      "For example, when doing 'df[col].method(value, inplace=True)', try using 'df.method({col: value}, inplace=True)' or df[col] = df[col].method(value) instead, to perform the operation inplace on the original object.\n",
      "\n",
      "\n",
      "  df['Route_Name'].fillna(\"Unknown Route\", inplace=True)\n",
      "C:\\Users\\DELL\\AppData\\Local\\Temp\\ipykernel_22272\\1396900731.py:2: FutureWarning: A value is trying to be set on a copy of a DataFrame or Series through chained assignment using an inplace method.\n",
      "The behavior will change in pandas 3.0. This inplace method will never work because the intermediate object on which we are setting values always behaves as a copy.\n",
      "\n",
      "For example, when doing 'df[col].method(value, inplace=True)', try using 'df.method({col: value}, inplace=True)' or df[col] = df[col].method(value) instead, to perform the operation inplace on the original object.\n",
      "\n",
      "\n",
      "  df['Bus_Type'].fillna(\"Unknown\", inplace=True)\n",
      "C:\\Users\\DELL\\AppData\\Local\\Temp\\ipykernel_22272\\1396900731.py:3: FutureWarning: A value is trying to be set on a copy of a DataFrame or Series through chained assignment using an inplace method.\n",
      "The behavior will change in pandas 3.0. This inplace method will never work because the intermediate object on which we are setting values always behaves as a copy.\n",
      "\n",
      "For example, when doing 'df[col].method(value, inplace=True)', try using 'df.method({col: value}, inplace=True)' or df[col] = df[col].method(value) instead, to perform the operation inplace on the original object.\n",
      "\n",
      "\n",
      "  df['Price'].fillna(0, inplace=True)  # Default price to 0 if missing\n"
     ]
    }
   ],
   "source": [
    "df['Route_Name'].fillna(\"Unknown Route\", inplace=True)\n",
    "df['Bus_Type'].fillna(\"Unknown\", inplace=True)\n",
    "df['Price'].fillna(0, inplace=True)  # Default price to 0 if missing\n",
    "df = df.where(pd.notna(df), None)  # Convert remaining NaNs to None\n"
   ]
  },
  {
   "cell_type": "code",
   "execution_count": 19,
   "metadata": {},
   "outputs": [
    {
     "name": "stdout",
     "output_type": "stream",
     "text": [
      "Connected to MySQL successfully!\n"
     ]
    }
   ],
   "source": [
    "import mysql.connector  \n",
    "\n",
    "conn = mysql.connector.connect(\n",
    "    host=\"localhost\",\n",
    "    user=\"root\",\n",
    "    password=\"root\",\n",
    "    database=\"RED_BUS_DETAILS\"\n",
    ")\n",
    "\n",
    "print(\"Connected to MySQL successfully!\")\n"
   ]
  },
  {
   "cell_type": "code",
   "execution_count": 20,
   "metadata": {},
   "outputs": [],
   "source": [
    "insert_query = '''INSERT INTO bus_details(\n",
    "    Route_Name, Route_Link, Bus_Name, Bus_Type, Departure_Time,\n",
    "    Arrival_Time, Duration, Price, Rating, Seat_Availability)\n",
    "    VALUES(%s, %s, %s, %s, %s, %s, %s, %s, %s, %s)'''\n"
   ]
  },
  {
   "cell_type": "code",
   "execution_count": 21,
   "metadata": {},
   "outputs": [
    {
     "name": "stdout",
     "output_type": "stream",
     "text": [
      "Columns in DataFrame: Index(['Route_Name', 'Route_Link', 'Bus_Name', 'Bus_Type', 'Departing_Time',\n",
      "       'Duration', 'Reaching_Time', 'Star_Rating', 'Price',\n",
      "       'Seat_Availability'],\n",
      "      dtype='object')\n",
      "Number of columns in DataFrame: 10\n",
      "Number of placeholders in query: 10\n"
     ]
    }
   ],
   "source": [
    "print(\"Columns in DataFrame:\", Final_df.columns)\n",
    "print(\"Number of columns in DataFrame:\", len(Final_df.columns))\n",
    "print(\"Number of placeholders in query:\", insert_query.count('%s'))\n"
   ]
  },
  {
   "cell_type": "code",
   "execution_count": 22,
   "metadata": {},
   "outputs": [
    {
     "name": "stdout",
     "output_type": "stream",
     "text": [
      "Using database: red_bus_details\n"
     ]
    }
   ],
   "source": [
    "my_cursor=conn.cursor()\n",
    "my_cursor.execute(\"USE red_bus_details\")\n",
    "print(\"Using database: red_bus_details\")\n"
   ]
  },
  {
   "cell_type": "code",
   "execution_count": 23,
   "metadata": {},
   "outputs": [
    {
     "name": "stdout",
     "output_type": "stream",
     "text": [
      "Databases: ['dt28', 'information_schema', 'mysql', 'performance_schema', 'red_bus_details', 'sakila', 'sys', 'world']\n"
     ]
    }
   ],
   "source": [
    "my_cursor.execute(\"SHOW DATABASES\")\n",
    "databases = [db[0] for db in my_cursor.fetchall()]\n",
    "print(\"Databases:\", databases)\n",
    "\n",
    "if \"red_bus_details\" not in databases:\n",
    "    my_cursor.execute(\"CREATE DATABASE red_bus_details\")\n",
    "    print(\"Database 'red_bus_details' created.\")\n"
   ]
  },
  {
   "cell_type": "code",
   "execution_count": null,
   "metadata": {},
   "outputs": [],
   "source": []
  },
  {
   "cell_type": "code",
   "execution_count": 24,
   "metadata": {},
   "outputs": [
    {
     "name": "stdout",
     "output_type": "stream",
     "text": [
      "Tables in database: ['bus_details']\n"
     ]
    }
   ],
   "source": [
    "my_cursor.execute(\"SHOW TABLES\")\n",
    "tables = [table[0] for table in my_cursor.fetchall()]\n",
    "print(\"Tables in database:\", tables)\n"
   ]
  },
  {
   "cell_type": "code",
   "execution_count": 25,
   "metadata": {},
   "outputs": [
    {
     "name": "stdout",
     "output_type": "stream",
     "text": [
      "Table 'bus_details' created successfully (if it didn't exist).\n"
     ]
    }
   ],
   "source": [
    "create_table_query = '''\n",
    "CREATE TABLE IF NOT EXISTS bus_details (\n",
    "    ID INT AUTO_INCREMENT PRIMARY KEY,\n",
    "    Route_Name VARCHAR(255),\n",
    "    Route_Link TEXT,\n",
    "    Bus_Name VARCHAR(255),\n",
    "    Bus_Type VARCHAR(100),\n",
    "    Departing_Time VARCHAR(50),\n",
    "    Duration VARCHAR(50),\n",
    "    Reaching_Time VARCHAR(50),\n",
    "    Star_Rating FLOAT,\n",
    "    Price FLOAT,\n",
    "    Seat_Availability VARCHAR(50)\n",
    ")\n",
    "'''\n",
    "my_cursor.execute(create_table_query)\n",
    "print(\"Table 'bus_details' created successfully (if it didn't exist).\")\n"
   ]
  },
  {
   "cell_type": "code",
   "execution_count": 26,
   "metadata": {},
   "outputs": [
    {
     "name": "stdout",
     "output_type": "stream",
     "text": [
      "('Route_Name', 'varchar(255)', 'YES', '', None, '')\n",
      "('Route_Link', 'text', 'YES', '', None, '')\n",
      "('Bus_Name', 'varchar(255)', 'YES', '', None, '')\n",
      "('Bus_Type', 'varchar(100)', 'YES', '', None, '')\n",
      "('Departing_Time', 'varchar(50)', 'YES', '', None, '')\n",
      "('Duration', 'varchar(50)', 'YES', '', None, '')\n",
      "('Reaching_Time', 'varchar(50)', 'YES', '', None, '')\n",
      "('Star_Rating', 'float', 'YES', '', None, '')\n",
      "('Price', 'float', 'YES', '', None, '')\n",
      "('Seat_Availability', 'varchar(50)', 'YES', '', None, '')\n"
     ]
    }
   ],
   "source": [
    "my_cursor.execute(\"DESCRIBE bus_details\")\n",
    "for row in my_cursor.fetchall():\n",
    "    print(row)\n"
   ]
  },
  {
   "cell_type": "code",
   "execution_count": 27,
   "metadata": {},
   "outputs": [
    {
     "name": "stdout",
     "output_type": "stream",
     "text": [
      "Values inserted successfully!\n"
     ]
    }
   ],
   "source": [
    "insert_query = '''INSERT INTO bus_details (\n",
    "    Route_Name, Route_Link, Bus_Name, Bus_Type, Departing_Time, \n",
    "    Duration, Reaching_Time, Star_Rating, Price, Seat_Availability\n",
    ") VALUES (%s, %s, %s, %s, %s, %s, %s, %s, %s, %s)'''\n",
    "\n",
    "data = Final_df.values.tolist()\n",
    "\n",
    "my_cursor.executemany(insert_query, data)\n",
    "conn.commit()\n",
    "print(\"Values inserted successfully!\")\n"
   ]
  },
  {
   "cell_type": "code",
   "execution_count": null,
   "metadata": {},
   "outputs": [],
   "source": []
  },
  {
   "cell_type": "code",
   "execution_count": null,
   "metadata": {},
   "outputs": [],
   "source": []
  }
 ],
 "metadata": {
  "kernelspec": {
   "display_name": "venv",
   "language": "python",
   "name": "python3"
  },
  "language_info": {
   "codemirror_mode": {
    "name": "ipython",
    "version": 3
   },
   "file_extension": ".py",
   "mimetype": "text/x-python",
   "name": "python",
   "nbconvert_exporter": "python",
   "pygments_lexer": "ipython3",
   "version": "3.11.9"
  }
 },
 "nbformat": 4,
 "nbformat_minor": 2
}
